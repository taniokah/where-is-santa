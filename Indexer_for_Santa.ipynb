{
  "nbformat": 4,
  "nbformat_minor": 0,
  "metadata": {
    "colab": {
      "name": "Indexer for Santa.ipynb",
      "provenance": [],
      "include_colab_link": true
    },
    "kernelspec": {
      "name": "python3",
      "display_name": "Python 3"
    }
  },
  "cells": [
    {
      "cell_type": "markdown",
      "metadata": {
        "id": "view-in-github",
        "colab_type": "text"
      },
      "source": [
        "<a href=\"https://colab.research.google.com/github/taniokah/where-is-santa/blob/master/Indexer_for_Santa.ipynb\" target=\"_parent\"><img src=\"https://colab.research.google.com/assets/colab-badge.svg\" alt=\"Open In Colab\"/></a>"
      ]
    },
    {
      "cell_type": "markdown",
      "metadata": {
        "id": "LoW1QTWPvc4L",
        "colab_type": "text"
      },
      "source": [
        "# Indexer for Santa\n",
        "\n",
        "https://github.com/taniokah/icdar-wml-2019/blob/master/Image%20Search%20for%20ICDAR%20WML%202019.ipynb"
      ]
    },
    {
      "cell_type": "code",
      "metadata": {
        "id": "I7XdTnZPvZmh",
        "colab_type": "code",
        "colab": {
          "base_uri": "https://localhost:8080/"
        },
        "outputId": "bd119e3f-8ab5-4775-bf36-1c188975bdb4"
      },
      "source": [
        "# Crawling Santa images.\n",
        "\n",
        "!pip install icrawler\n",
        "\n",
        "!rm -rf google_images/*\n",
        "!rm -rf bing_images/*\n",
        "!rm -rf baidu_images/*\n",
        "\n",
        "from icrawler.builtin import BaiduImageCrawler, BingImageCrawler, GoogleImageCrawler\n",
        "\n",
        "crawler = GoogleImageCrawler(storage={\"root_dir\": \"google_images\"}, downloader_threads=4)\n",
        "crawler.crawl(keyword=\"Santa\", offset=0, max_num=1000)\n",
        "\n",
        "bing_crawler = BingImageCrawler(storage={'root_dir': 'bing_images'}, downloader_threads=4)\n",
        "bing_crawler.crawl(keyword='Santa', filters=None, offset=0, max_num=1000)\n",
        "\n",
        "baidu_crawler = BaiduImageCrawler(storage={'root_dir': 'baidu_images'})\n",
        "baidu_crawler.crawl(keyword='Santa', offset=0, max_num=1000)"
      ],
      "execution_count": 1,
      "outputs": [
        {
          "output_type": "stream",
          "text": [
            "Collecting icrawler\n",
            "  Downloading https://files.pythonhosted.org/packages/78/a2/1ac26a2c39b87bef4ef8cb39cb4f33e04041f4a9f04f8cc3dfa1251e0304/icrawler-0.6.2-py2.py3-none-any.whl\n",
            "Requirement already satisfied: six>=1.10.0 in /usr/local/lib/python3.6/dist-packages (from icrawler) (1.12.0)\n",
            "Requirement already satisfied: requests>=2.9.1 in /usr/local/lib/python3.6/dist-packages (from icrawler) (2.21.0)\n",
            "Requirement already satisfied: lxml in /usr/local/lib/python3.6/dist-packages (from icrawler) (4.2.6)\n",
            "Requirement already satisfied: beautifulsoup4>=4.4.1 in /usr/local/lib/python3.6/dist-packages (from icrawler) (4.6.3)\n",
            "Requirement already satisfied: Pillow in /usr/local/lib/python3.6/dist-packages (from icrawler) (4.3.0)\n",
            "Requirement already satisfied: idna<2.9,>=2.5 in /usr/local/lib/python3.6/dist-packages (from requests>=2.9.1->icrawler) (2.8)\n",
            "Requirement already satisfied: urllib3<1.25,>=1.21.1 in /usr/local/lib/python3.6/dist-packages (from requests>=2.9.1->icrawler) (1.24.3)\n",
            "Requirement already satisfied: chardet<3.1.0,>=3.0.2 in /usr/local/lib/python3.6/dist-packages (from requests>=2.9.1->icrawler) (3.0.4)\n",
            "Requirement already satisfied: certifi>=2017.4.17 in /usr/local/lib/python3.6/dist-packages (from requests>=2.9.1->icrawler) (2019.11.28)\n",
            "Requirement already satisfied: olefile in /usr/local/lib/python3.6/dist-packages (from Pillow->icrawler) (0.46)\n",
            "Installing collected packages: icrawler\n",
            "Successfully installed icrawler-0.6.2\n"
          ],
          "name": "stdout"
        },
        {
          "output_type": "error",
          "ename": "MessageError",
          "evalue": "ignored",
          "traceback": [
            "\u001b[0;31m---------------------------------------------------------------------------\u001b[0m",
            "\u001b[0;31mMessageError\u001b[0m                              Traceback (most recent call last)",
            "\u001b[0;32m<ipython-input-1-7a5c6b873bb6>\u001b[0m in \u001b[0;36m<module>\u001b[0;34m()\u001b[0m\n\u001b[1;32m      3\u001b[0m \u001b[0;34m\u001b[0m\u001b[0m\n\u001b[1;32m      4\u001b[0m \u001b[0mget_ipython\u001b[0m\u001b[0;34m(\u001b[0m\u001b[0;34m)\u001b[0m\u001b[0;34m.\u001b[0m\u001b[0msystem\u001b[0m\u001b[0;34m(\u001b[0m\u001b[0;34m'rm -rf google_images/*'\u001b[0m\u001b[0;34m)\u001b[0m\u001b[0;34m\u001b[0m\u001b[0;34m\u001b[0m\u001b[0m\n\u001b[0;32m----> 5\u001b[0;31m \u001b[0mget_ipython\u001b[0m\u001b[0;34m(\u001b[0m\u001b[0;34m)\u001b[0m\u001b[0;34m.\u001b[0m\u001b[0msystem\u001b[0m\u001b[0;34m(\u001b[0m\u001b[0;34m'rm -rf bing_images/*'\u001b[0m\u001b[0;34m)\u001b[0m\u001b[0;34m\u001b[0m\u001b[0;34m\u001b[0m\u001b[0m\n\u001b[0m\u001b[1;32m      6\u001b[0m \u001b[0mget_ipython\u001b[0m\u001b[0;34m(\u001b[0m\u001b[0;34m)\u001b[0m\u001b[0;34m.\u001b[0m\u001b[0msystem\u001b[0m\u001b[0;34m(\u001b[0m\u001b[0;34m'rm -rf baidu_images/*'\u001b[0m\u001b[0;34m)\u001b[0m\u001b[0;34m\u001b[0m\u001b[0;34m\u001b[0m\u001b[0m\n\u001b[1;32m      7\u001b[0m \u001b[0;34m\u001b[0m\u001b[0m\n",
            "\u001b[0;32m/usr/local/lib/python3.6/dist-packages/google/colab/_shell.py\u001b[0m in \u001b[0;36msystem\u001b[0;34m(self, *args, **kwargs)\u001b[0m\n\u001b[1;32m     94\u001b[0m       \u001b[0mkwargs\u001b[0m\u001b[0;34m.\u001b[0m\u001b[0mupdate\u001b[0m\u001b[0;34m(\u001b[0m\u001b[0;34m{\u001b[0m\u001b[0;34m'also_return_output'\u001b[0m\u001b[0;34m:\u001b[0m \u001b[0;32mTrue\u001b[0m\u001b[0;34m}\u001b[0m\u001b[0;34m)\u001b[0m\u001b[0;34m\u001b[0m\u001b[0;34m\u001b[0m\u001b[0m\n\u001b[1;32m     95\u001b[0m \u001b[0;34m\u001b[0m\u001b[0m\n\u001b[0;32m---> 96\u001b[0;31m     \u001b[0moutput\u001b[0m \u001b[0;34m=\u001b[0m \u001b[0m_system_commands\u001b[0m\u001b[0;34m.\u001b[0m\u001b[0m_system_compat\u001b[0m\u001b[0;34m(\u001b[0m\u001b[0mself\u001b[0m\u001b[0;34m,\u001b[0m \u001b[0;34m*\u001b[0m\u001b[0margs\u001b[0m\u001b[0;34m,\u001b[0m \u001b[0;34m**\u001b[0m\u001b[0mkwargs\u001b[0m\u001b[0;34m)\u001b[0m  \u001b[0;31m# pylint:disable=protected-access\u001b[0m\u001b[0;34m\u001b[0m\u001b[0;34m\u001b[0m\u001b[0m\n\u001b[0m\u001b[1;32m     97\u001b[0m \u001b[0;34m\u001b[0m\u001b[0m\n\u001b[1;32m     98\u001b[0m     \u001b[0;32mif\u001b[0m \u001b[0mpip_warn\u001b[0m\u001b[0;34m:\u001b[0m\u001b[0;34m\u001b[0m\u001b[0;34m\u001b[0m\u001b[0m\n",
            "\u001b[0;32m/usr/local/lib/python3.6/dist-packages/google/colab/_system_commands.py\u001b[0m in \u001b[0;36m_system_compat\u001b[0;34m(shell, cmd, also_return_output)\u001b[0m\n\u001b[1;32m    436\u001b[0m   \u001b[0;31m# stack.\u001b[0m\u001b[0;34m\u001b[0m\u001b[0;34m\u001b[0m\u001b[0;34m\u001b[0m\u001b[0m\n\u001b[1;32m    437\u001b[0m   result = _run_command(\n\u001b[0;32m--> 438\u001b[0;31m       shell.var_expand(cmd, depth=2), clear_streamed_output=False)\n\u001b[0m\u001b[1;32m    439\u001b[0m   \u001b[0mshell\u001b[0m\u001b[0;34m.\u001b[0m\u001b[0muser_ns\u001b[0m\u001b[0;34m[\u001b[0m\u001b[0;34m'_exit_code'\u001b[0m\u001b[0;34m]\u001b[0m \u001b[0;34m=\u001b[0m \u001b[0mresult\u001b[0m\u001b[0;34m.\u001b[0m\u001b[0mreturncode\u001b[0m\u001b[0;34m\u001b[0m\u001b[0;34m\u001b[0m\u001b[0m\n\u001b[1;32m    440\u001b[0m   \u001b[0;32mif\u001b[0m \u001b[0;34m-\u001b[0m\u001b[0mresult\u001b[0m\u001b[0;34m.\u001b[0m\u001b[0mreturncode\u001b[0m \u001b[0;32min\u001b[0m \u001b[0m_INTERRUPTED_SIGNALS\u001b[0m\u001b[0;34m:\u001b[0m\u001b[0;34m\u001b[0m\u001b[0;34m\u001b[0m\u001b[0m\n",
            "\u001b[0;32m/usr/local/lib/python3.6/dist-packages/google/colab/_system_commands.py\u001b[0m in \u001b[0;36m_run_command\u001b[0;34m(cmd, clear_streamed_output)\u001b[0m\n\u001b[1;32m    193\u001b[0m       \u001b[0mos\u001b[0m\u001b[0;34m.\u001b[0m\u001b[0mclose\u001b[0m\u001b[0;34m(\u001b[0m\u001b[0mchild_pty\u001b[0m\u001b[0;34m)\u001b[0m\u001b[0;34m\u001b[0m\u001b[0;34m\u001b[0m\u001b[0m\n\u001b[1;32m    194\u001b[0m \u001b[0;34m\u001b[0m\u001b[0m\n\u001b[0;32m--> 195\u001b[0;31m       \u001b[0;32mreturn\u001b[0m \u001b[0m_monitor_process\u001b[0m\u001b[0;34m(\u001b[0m\u001b[0mparent_pty\u001b[0m\u001b[0;34m,\u001b[0m \u001b[0mepoll\u001b[0m\u001b[0;34m,\u001b[0m \u001b[0mp\u001b[0m\u001b[0;34m,\u001b[0m \u001b[0mcmd\u001b[0m\u001b[0;34m,\u001b[0m \u001b[0mupdate_stdin_widget\u001b[0m\u001b[0;34m)\u001b[0m\u001b[0;34m\u001b[0m\u001b[0;34m\u001b[0m\u001b[0m\n\u001b[0m\u001b[1;32m    196\u001b[0m   \u001b[0;32mfinally\u001b[0m\u001b[0;34m:\u001b[0m\u001b[0;34m\u001b[0m\u001b[0;34m\u001b[0m\u001b[0m\n\u001b[1;32m    197\u001b[0m     \u001b[0mepoll\u001b[0m\u001b[0;34m.\u001b[0m\u001b[0mclose\u001b[0m\u001b[0;34m(\u001b[0m\u001b[0;34m)\u001b[0m\u001b[0;34m\u001b[0m\u001b[0;34m\u001b[0m\u001b[0m\n",
            "\u001b[0;32m/usr/local/lib/python3.6/dist-packages/google/colab/_system_commands.py\u001b[0m in \u001b[0;36m_monitor_process\u001b[0;34m(parent_pty, epoll, p, cmd, update_stdin_widget)\u001b[0m\n\u001b[1;32m    227\u001b[0m       \u001b[0mnew_echo_status\u001b[0m \u001b[0;34m=\u001b[0m \u001b[0mbool\u001b[0m\u001b[0;34m(\u001b[0m\u001b[0mterm_settings\u001b[0m\u001b[0;34m[\u001b[0m\u001b[0;36m3\u001b[0m\u001b[0;34m]\u001b[0m \u001b[0;34m&\u001b[0m \u001b[0mtermios\u001b[0m\u001b[0;34m.\u001b[0m\u001b[0mECHO\u001b[0m\u001b[0;34m)\u001b[0m\u001b[0;34m\u001b[0m\u001b[0;34m\u001b[0m\u001b[0m\n\u001b[1;32m    228\u001b[0m       \u001b[0;32mif\u001b[0m \u001b[0mecho_status\u001b[0m \u001b[0;34m!=\u001b[0m \u001b[0mnew_echo_status\u001b[0m\u001b[0;34m:\u001b[0m\u001b[0;34m\u001b[0m\u001b[0;34m\u001b[0m\u001b[0m\n\u001b[0;32m--> 229\u001b[0;31m         \u001b[0mupdate_stdin_widget\u001b[0m\u001b[0;34m(\u001b[0m\u001b[0mnew_echo_status\u001b[0m\u001b[0;34m)\u001b[0m\u001b[0;34m\u001b[0m\u001b[0;34m\u001b[0m\u001b[0m\n\u001b[0m\u001b[1;32m    230\u001b[0m         \u001b[0mecho_status\u001b[0m \u001b[0;34m=\u001b[0m \u001b[0mnew_echo_status\u001b[0m\u001b[0;34m\u001b[0m\u001b[0;34m\u001b[0m\u001b[0m\n\u001b[1;32m    231\u001b[0m     \u001b[0;32mexcept\u001b[0m \u001b[0mKeyboardInterrupt\u001b[0m\u001b[0;34m:\u001b[0m\u001b[0;34m\u001b[0m\u001b[0;34m\u001b[0m\u001b[0m\n",
            "\u001b[0;32m/usr/local/lib/python3.6/dist-packages/google/colab/_system_commands.py\u001b[0m in \u001b[0;36mecho_updater\u001b[0;34m(new_echo_status)\u001b[0m\n\u001b[1;32m    348\u001b[0m     \u001b[0;31m# https://github.com/googlecolab/colabtools/blob/56e4dbec7c4fa09fad51b60feb5c786c69d688c6/google/colab/_message.py#L100.\u001b[0m\u001b[0;34m\u001b[0m\u001b[0;34m\u001b[0m\u001b[0;34m\u001b[0m\u001b[0m\n\u001b[1;32m    349\u001b[0m     \u001b[0mupdate_args\u001b[0m \u001b[0;34m=\u001b[0m \u001b[0;34m[\u001b[0m\u001b[0;34m'cell_update_stdin'\u001b[0m\u001b[0;34m,\u001b[0m \u001b[0;34m{\u001b[0m\u001b[0;34m'echo'\u001b[0m\u001b[0;34m:\u001b[0m \u001b[0mnew_echo_status\u001b[0m\u001b[0;34m}\u001b[0m\u001b[0;34m]\u001b[0m\u001b[0;34m\u001b[0m\u001b[0;34m\u001b[0m\u001b[0m\n\u001b[0;32m--> 350\u001b[0;31m     \u001b[0m_message\u001b[0m\u001b[0;34m.\u001b[0m\u001b[0mblocking_request\u001b[0m\u001b[0;34m(\u001b[0m\u001b[0;34m*\u001b[0m\u001b[0mupdate_args\u001b[0m\u001b[0;34m,\u001b[0m \u001b[0mparent\u001b[0m\u001b[0;34m=\u001b[0m\u001b[0mshell\u001b[0m\u001b[0;34m.\u001b[0m\u001b[0mparent_header\u001b[0m\u001b[0;34m)\u001b[0m\u001b[0;34m\u001b[0m\u001b[0;34m\u001b[0m\u001b[0m\n\u001b[0m\u001b[1;32m    351\u001b[0m \u001b[0;34m\u001b[0m\u001b[0m\n\u001b[1;32m    352\u001b[0m   \u001b[0;32myield\u001b[0m \u001b[0mecho_updater\u001b[0m\u001b[0;34m\u001b[0m\u001b[0;34m\u001b[0m\u001b[0m\n",
            "\u001b[0;32m/usr/local/lib/python3.6/dist-packages/google/colab/_message.py\u001b[0m in \u001b[0;36mblocking_request\u001b[0;34m(request_type, request, timeout_sec, parent)\u001b[0m\n\u001b[1;32m    169\u001b[0m   \u001b[0;31m# unique.\u001b[0m\u001b[0;34m\u001b[0m\u001b[0;34m\u001b[0m\u001b[0;34m\u001b[0m\u001b[0m\n\u001b[1;32m    170\u001b[0m   \u001b[0mrequest_id\u001b[0m \u001b[0;34m=\u001b[0m \u001b[0msend_request\u001b[0m\u001b[0;34m(\u001b[0m\u001b[0mrequest_type\u001b[0m\u001b[0;34m,\u001b[0m \u001b[0mrequest\u001b[0m\u001b[0;34m,\u001b[0m \u001b[0mparent\u001b[0m\u001b[0;34m=\u001b[0m\u001b[0mparent\u001b[0m\u001b[0;34m)\u001b[0m\u001b[0;34m\u001b[0m\u001b[0;34m\u001b[0m\u001b[0m\n\u001b[0;32m--> 171\u001b[0;31m   \u001b[0;32mreturn\u001b[0m \u001b[0mread_reply_from_input\u001b[0m\u001b[0;34m(\u001b[0m\u001b[0mrequest_id\u001b[0m\u001b[0;34m,\u001b[0m \u001b[0mtimeout_sec\u001b[0m\u001b[0;34m)\u001b[0m\u001b[0;34m\u001b[0m\u001b[0;34m\u001b[0m\u001b[0m\n\u001b[0m",
            "\u001b[0;32m/usr/local/lib/python3.6/dist-packages/google/colab/_message.py\u001b[0m in \u001b[0;36mread_reply_from_input\u001b[0;34m(message_id, timeout_sec)\u001b[0m\n\u001b[1;32m    104\u001b[0m         reply.get('colab_msg_id') == message_id):\n\u001b[1;32m    105\u001b[0m       \u001b[0;32mif\u001b[0m \u001b[0;34m'error'\u001b[0m \u001b[0;32min\u001b[0m \u001b[0mreply\u001b[0m\u001b[0;34m:\u001b[0m\u001b[0;34m\u001b[0m\u001b[0;34m\u001b[0m\u001b[0m\n\u001b[0;32m--> 106\u001b[0;31m         \u001b[0;32mraise\u001b[0m \u001b[0mMessageError\u001b[0m\u001b[0;34m(\u001b[0m\u001b[0mreply\u001b[0m\u001b[0;34m[\u001b[0m\u001b[0;34m'error'\u001b[0m\u001b[0;34m]\u001b[0m\u001b[0;34m)\u001b[0m\u001b[0;34m\u001b[0m\u001b[0;34m\u001b[0m\u001b[0m\n\u001b[0m\u001b[1;32m    107\u001b[0m       \u001b[0;32mreturn\u001b[0m \u001b[0mreply\u001b[0m\u001b[0;34m.\u001b[0m\u001b[0mget\u001b[0m\u001b[0;34m(\u001b[0m\u001b[0;34m'data'\u001b[0m\u001b[0;34m,\u001b[0m \u001b[0;32mNone\u001b[0m\u001b[0;34m)\u001b[0m\u001b[0;34m\u001b[0m\u001b[0;34m\u001b[0m\u001b[0m\n\u001b[1;32m    108\u001b[0m \u001b[0;34m\u001b[0m\u001b[0m\n",
            "\u001b[0;31mMessageError\u001b[0m: CustomError: Timed out waiting for output iframe load."
          ]
        }
      ]
    },
    {
      "cell_type": "code",
      "metadata": {
        "id": "Nnkwjhrrva_z",
        "colab_type": "code",
        "colab": {
          "base_uri": "https://localhost:8080/"
        },
        "outputId": "f8f1d7b9-497e-4634-89ed-6fd79fb9f9ff"
      },
      "source": [
        "import os\n",
        "from subprocess import Popen, PIPE, STDOUT\n",
        "#%env ES_JAVA_OPTS=\"-Xms100m -Xmx100m\"\n",
        "es_server = Popen(['elasticsearch-7.5.1/bin/elasticsearch'], \n",
        "                  stdout=PIPE, stderr=STDOUT,\n",
        "                  preexec_fn=lambda: os.setuid(1)  # as daemon\n",
        "                 )\n",
        "\n",
        "!ps aux | grep elastic\n",
        "!sleep 30\n",
        "!curl -X GET \"localhost:9200/\""
      ],
      "execution_count": 2,
      "outputs": [
        {
          "output_type": "error",
          "ename": "FileNotFoundError",
          "evalue": "ignored",
          "traceback": [
            "\u001b[0;31m---------------------------------------------------------------------------\u001b[0m",
            "\u001b[0;31mFileNotFoundError\u001b[0m                         Traceback (most recent call last)",
            "\u001b[0;32m<ipython-input-2-5ae67b80eacb>\u001b[0m in \u001b[0;36m<module>\u001b[0;34m()\u001b[0m\n\u001b[1;32m      4\u001b[0m es_server = Popen(['elasticsearch-7.5.1/bin/elasticsearch'], \n\u001b[1;32m      5\u001b[0m                   \u001b[0mstdout\u001b[0m\u001b[0;34m=\u001b[0m\u001b[0mPIPE\u001b[0m\u001b[0;34m,\u001b[0m \u001b[0mstderr\u001b[0m\u001b[0;34m=\u001b[0m\u001b[0mSTDOUT\u001b[0m\u001b[0;34m,\u001b[0m\u001b[0;34m\u001b[0m\u001b[0;34m\u001b[0m\u001b[0m\n\u001b[0;32m----> 6\u001b[0;31m                   \u001b[0mpreexec_fn\u001b[0m\u001b[0;34m=\u001b[0m\u001b[0;32mlambda\u001b[0m\u001b[0;34m:\u001b[0m \u001b[0mos\u001b[0m\u001b[0;34m.\u001b[0m\u001b[0msetuid\u001b[0m\u001b[0;34m(\u001b[0m\u001b[0;36m1\u001b[0m\u001b[0;34m)\u001b[0m  \u001b[0;31m# as daemon\u001b[0m\u001b[0;34m\u001b[0m\u001b[0;34m\u001b[0m\u001b[0m\n\u001b[0m\u001b[1;32m      7\u001b[0m                  )\n\u001b[1;32m      8\u001b[0m \u001b[0;34m\u001b[0m\u001b[0m\n",
            "\u001b[0;32m/usr/lib/python3.6/subprocess.py\u001b[0m in \u001b[0;36m__init__\u001b[0;34m(self, args, bufsize, executable, stdin, stdout, stderr, preexec_fn, close_fds, shell, cwd, env, universal_newlines, startupinfo, creationflags, restore_signals, start_new_session, pass_fds, encoding, errors)\u001b[0m\n\u001b[1;32m    727\u001b[0m                                 \u001b[0mc2pread\u001b[0m\u001b[0;34m,\u001b[0m \u001b[0mc2pwrite\u001b[0m\u001b[0;34m,\u001b[0m\u001b[0;34m\u001b[0m\u001b[0;34m\u001b[0m\u001b[0m\n\u001b[1;32m    728\u001b[0m                                 \u001b[0merrread\u001b[0m\u001b[0;34m,\u001b[0m \u001b[0merrwrite\u001b[0m\u001b[0;34m,\u001b[0m\u001b[0;34m\u001b[0m\u001b[0;34m\u001b[0m\u001b[0m\n\u001b[0;32m--> 729\u001b[0;31m                                 restore_signals, start_new_session)\n\u001b[0m\u001b[1;32m    730\u001b[0m         \u001b[0;32mexcept\u001b[0m\u001b[0;34m:\u001b[0m\u001b[0;34m\u001b[0m\u001b[0;34m\u001b[0m\u001b[0m\n\u001b[1;32m    731\u001b[0m             \u001b[0;31m# Cleanup if the child failed starting.\u001b[0m\u001b[0;34m\u001b[0m\u001b[0;34m\u001b[0m\u001b[0;34m\u001b[0m\u001b[0m\n",
            "\u001b[0;32m/usr/lib/python3.6/subprocess.py\u001b[0m in \u001b[0;36m_execute_child\u001b[0;34m(self, args, executable, preexec_fn, close_fds, pass_fds, cwd, env, startupinfo, creationflags, shell, p2cread, p2cwrite, c2pread, c2pwrite, errread, errwrite, restore_signals, start_new_session)\u001b[0m\n\u001b[1;32m   1362\u001b[0m                         \u001b[0;32mif\u001b[0m \u001b[0merrno_num\u001b[0m \u001b[0;34m==\u001b[0m \u001b[0merrno\u001b[0m\u001b[0;34m.\u001b[0m\u001b[0mENOENT\u001b[0m\u001b[0;34m:\u001b[0m\u001b[0;34m\u001b[0m\u001b[0;34m\u001b[0m\u001b[0m\n\u001b[1;32m   1363\u001b[0m                             \u001b[0merr_msg\u001b[0m \u001b[0;34m+=\u001b[0m \u001b[0;34m': '\u001b[0m \u001b[0;34m+\u001b[0m \u001b[0mrepr\u001b[0m\u001b[0;34m(\u001b[0m\u001b[0merr_filename\u001b[0m\u001b[0;34m)\u001b[0m\u001b[0;34m\u001b[0m\u001b[0;34m\u001b[0m\u001b[0m\n\u001b[0;32m-> 1364\u001b[0;31m                     \u001b[0;32mraise\u001b[0m \u001b[0mchild_exception_type\u001b[0m\u001b[0;34m(\u001b[0m\u001b[0merrno_num\u001b[0m\u001b[0;34m,\u001b[0m \u001b[0merr_msg\u001b[0m\u001b[0;34m,\u001b[0m \u001b[0merr_filename\u001b[0m\u001b[0;34m)\u001b[0m\u001b[0;34m\u001b[0m\u001b[0;34m\u001b[0m\u001b[0m\n\u001b[0m\u001b[1;32m   1365\u001b[0m                 \u001b[0;32mraise\u001b[0m \u001b[0mchild_exception_type\u001b[0m\u001b[0;34m(\u001b[0m\u001b[0merr_msg\u001b[0m\u001b[0;34m)\u001b[0m\u001b[0;34m\u001b[0m\u001b[0;34m\u001b[0m\u001b[0m\n\u001b[1;32m   1366\u001b[0m \u001b[0;34m\u001b[0m\u001b[0m\n",
            "\u001b[0;31mFileNotFoundError\u001b[0m: [Errno 2] No such file or directory: 'elasticsearch-7.5.1/bin/elasticsearch': 'elasticsearch-7.5.1/bin/elasticsearch'"
          ]
        }
      ]
    },
    {
      "cell_type": "code",
      "metadata": {
        "id": "0hCPE-zEvoD6",
        "colab_type": "code",
        "colab": {}
      },
      "source": [
        "!pip install elasticsearch\n",
        "\n",
        "from datetime import datetime\n",
        "from elasticsearch import Elasticsearch\n",
        "es = Elasticsearch(timeout=20)\n",
        "\n",
        "doc = {\n",
        "    'author': 'Santa Claus',\n",
        "    'text': 'Where is Santa Claus?',\n",
        "    'timestamp': datetime.now(),\n",
        "}\n",
        "res = es.index(index=\"test-index\", doc_type='tweet', id=1, body=doc)\n",
        "print(res['result'])\n",
        "\n",
        "res = es.get(index=\"test-index\", doc_type='tweet', id=1)\n",
        "print(res['_source'])\n",
        "\n",
        "es.indices.refresh(index=\"test-index\")\n",
        "\n",
        "res = es.search(index=\"test-index\", body={\"query\": {\"match_all\": {}}})\n",
        "print(\"Got %d Hits:\" % res['hits']['total']['value'])\n",
        "for hit in res['hits']['hits']:\n",
        "    print(\"%(timestamp)s %(author)s: %(text)s\" % hit[\"_source\"])"
      ],
      "execution_count": 0,
      "outputs": []
    },
    {
      "cell_type": "code",
      "metadata": {
        "id": "0WKkMRzovqnF",
        "colab_type": "code",
        "colab": {}
      },
      "source": [
        "# Load libraries\n",
        "from keras.applications.vgg16 import VGG16, preprocess_input, decode_predictions\n",
        "from keras.preprocessing import image\n",
        "from PIL import Image\n",
        "import matplotlib.pyplot as plt\n",
        "import numpy as np\n",
        "import sys\n",
        "\n",
        "model = VGG16(weights='imagenet')"
      ],
      "execution_count": 0,
      "outputs": []
    },
    {
      "cell_type": "code",
      "metadata": {
        "id": "8Xtydri1vswd",
        "colab_type": "code",
        "colab": {}
      },
      "source": [
        "def predict(filename, featuresize, scale=1.0):\n",
        "    img = image.load_img(filename, target_size=(224, 224))\n",
        "    return predictimg(img, featuresize, scale=1.0)\n",
        "\n",
        "def predictpart(filename, featuresize, scale=1.0, size=1):\n",
        "    im = Image.open(filename)\n",
        "    width, height = im.size\n",
        "    im = im.resize((width * size, height * size))\n",
        "    im_list = np.asarray(im)\n",
        "    # partition\n",
        "    out_img = []\n",
        "    if size > 1: \n",
        "        v_split = size\n",
        "        h_split = size\n",
        "        [out_img.extend(np.hsplit(h_img, h_split)) for h_img in np.vsplit(im_list, v_split)]\n",
        "    else:\n",
        "        out_img.append(im_list)\n",
        "    reslist = []\n",
        "    for offset in range(size * size):\n",
        "        img = Image.fromarray(out_img[offset])\n",
        "        reslist.append(predictimg(img, featuresize, scale))\n",
        "    return reslist\n",
        "\n",
        "def predictimg(img, featuresize, scale=1.0):\n",
        "    width, height = img.size\n",
        "    img = img.resize((int(width * scale), int(height * scale)))\n",
        "    img = img.resize((224, 224))\n",
        "    x = image.img_to_array(img)\n",
        "    x = np.expand_dims(x, axis=0)\n",
        "    preds = model.predict(preprocess_input(x))\n",
        "    results = decode_predictions(preds, top=featuresize)[0]\n",
        "    return results\n",
        "\n",
        "def showimg(filename, title, i, scale=1.0, col=2, row=5):\n",
        "    im = Image.open(filename)\n",
        "    width, height = im.size\n",
        "    im = im.resize((int(width * scale), int(height * scale)))\n",
        "    im = im.resize((width, height))\n",
        "    im_list = np.asarray(im)\n",
        "    plt.subplot(col, row, i)\n",
        "    plt.title(title)\n",
        "    plt.axis(\"off\")\n",
        "    plt.imshow(im_list)\n",
        "    \n",
        "def showpartimg(filename, title, i, size, scale=1.0, col=2, row=5):\n",
        "    im = Image.open(filename)\n",
        "    width, height = im.size\n",
        "    im = im.resize((int(width * scale), int(height * scale)))\n",
        "    #im = im.resize((width, height))\n",
        "    im = im.resize((width * size, height * size))\n",
        "    im_list = np.asarray(im)\n",
        "    # partition\n",
        "    out_img = []\n",
        "    if size > 1: \n",
        "        v_split = size\n",
        "        h_split = size\n",
        "        [out_img.extend(np.hsplit(h_img, h_split)) for h_img in np.vsplit(im_list, v_split)]\n",
        "    else:\n",
        "        out_img.append(im_list)\n",
        "    # draw image\n",
        "    for offset in range(size * size):\n",
        "        im_list = out_img[offset]\n",
        "        pos = i + offset\n",
        "        print(str(col) + ' ' + str(row) + ' ' + str(pos))\n",
        "        plt.subplot(col, row, pos)\n",
        "        plt.title(title)\n",
        "        plt.axis(\"off\")\n",
        "        plt.imshow(im_list)\n",
        "        out_img[offset] = Image.fromarray(im_list)\n",
        "    return out_img"
      ],
      "execution_count": 0,
      "outputs": []
    },
    {
      "cell_type": "code",
      "metadata": {
        "id": "btiI8I_lvxGr",
        "colab_type": "code",
        "colab": {
          "base_uri": "https://localhost:8080/"
        },
        "outputId": "0d69756f-12ac-4761-b183-6ffe035f3d2f"
      },
      "source": [
        "# Predict an image\n",
        "scale = 1.0\n",
        "filename = \"google_images/000001.jpg\"\n",
        "plt.figure(figsize=(20, 10))\n",
        "\n",
        "#showimg(filename, \"query\", i+1, scale)\n",
        "imgs = showpartimg(filename, \"query\", 1, 1, scale)\n",
        "plt.show()\n",
        "\n",
        "for img in imgs:\n",
        "    reslist = predictpart(filename, 10, scale)\n",
        "    for results in reslist:\n",
        "        for result in results:\n",
        "            print(result)\n",
        "    print()"
      ],
      "execution_count": 4,
      "outputs": [
        {
          "output_type": "error",
          "ename": "NameError",
          "evalue": "ignored",
          "traceback": [
            "\u001b[0;31m---------------------------------------------------------------------------\u001b[0m",
            "\u001b[0;31mNameError\u001b[0m                                 Traceback (most recent call last)",
            "\u001b[0;32m<ipython-input-4-b6944277b9d4>\u001b[0m in \u001b[0;36m<module>\u001b[0;34m()\u001b[0m\n\u001b[1;32m      1\u001b[0m \u001b[0mscale\u001b[0m \u001b[0;34m=\u001b[0m \u001b[0;36m1.0\u001b[0m\u001b[0;34m\u001b[0m\u001b[0;34m\u001b[0m\u001b[0m\n\u001b[1;32m      2\u001b[0m \u001b[0mfilename\u001b[0m \u001b[0;34m=\u001b[0m \u001b[0;34m\"google_images/000001.jpg\"\u001b[0m\u001b[0;34m\u001b[0m\u001b[0;34m\u001b[0m\u001b[0m\n\u001b[0;32m----> 3\u001b[0;31m \u001b[0mplt\u001b[0m\u001b[0;34m.\u001b[0m\u001b[0mfigure\u001b[0m\u001b[0;34m(\u001b[0m\u001b[0mfigsize\u001b[0m\u001b[0;34m=\u001b[0m\u001b[0;34m(\u001b[0m\u001b[0;36m20\u001b[0m\u001b[0;34m,\u001b[0m \u001b[0;36m10\u001b[0m\u001b[0;34m)\u001b[0m\u001b[0;34m)\u001b[0m\u001b[0;34m\u001b[0m\u001b[0;34m\u001b[0m\u001b[0m\n\u001b[0m\u001b[1;32m      4\u001b[0m \u001b[0;34m\u001b[0m\u001b[0m\n\u001b[1;32m      5\u001b[0m \u001b[0;31m#showimg(filename, \"query\", i+1, scale)\u001b[0m\u001b[0;34m\u001b[0m\u001b[0;34m\u001b[0m\u001b[0;34m\u001b[0m\u001b[0m\n",
            "\u001b[0;31mNameError\u001b[0m: name 'plt' is not defined"
          ]
        }
      ]
    },
    {
      "cell_type": "code",
      "metadata": {
        "id": "x2rWJuTwvzMw",
        "colab_type": "code",
        "colab": {}
      },
      "source": [
        "import math\n",
        "import binascii\n",
        "from datetime import datetime\n",
        "\n",
        "def createindex(indexname):\n",
        "    if es.indices.exists(index=indexname):\n",
        "        es.indices.delete(index=indexname)\n",
        "    es.indices.create(index=indexname,  body={\n",
        "        \"settings\": {\n",
        "            \"index.mapping.total_fields.limit\": 10000,\n",
        "        }\n",
        "    })\n",
        "\n",
        "def loadimages(directory):\n",
        "    imagefiles = []\n",
        "    for file in os.listdir(directory):\n",
        "        if file.rfind('.jpg') < 0:\n",
        "            continue\n",
        "        filepath = os.path.join(directory, file)\n",
        "        imagefiles.append(filepath)\n",
        "    return imagefiles\n",
        "\n",
        "def indexfiles(indexname, directory, featuresize=10, docsize=1000):\n",
        "    imagefiles = loadimages(directory)\n",
        "    for i in range(len(imagefiles)):\n",
        "        if i >= docsize:\n",
        "            return\n",
        "        filename = imagefiles[i]\n",
        "        indexfile(indexname, filename, i, featuresize)\n",
        "        sys.stdout.write(\"\\r%d\" % (i + 1))\n",
        "        sys.stdout.flush()\n",
        "    es.indices.refresh(index=indexname)    \n",
        "\n",
        "def indexfile(indexname, filename, i, featuresize):\n",
        "    rounddown = 16\n",
        "    doc = {'f': filename, 's':{}, 'timestamp': datetime.now()}  # filename, synset\n",
        "    results = predict(filename, featuresize) \n",
        "    l2 = float(0)\n",
        "    l2_map = float(0)\n",
        "    for result in results:\n",
        "        score = float(str(result[2]))\n",
        "        l2 = l2 + score ** 2\n",
        "    for result in results:\n",
        "        score = float(str(result[2]))\n",
        "        synset = doc['s']\n",
        "        #wnid = int(result[0][1:])\n",
        "        wnid = result[0]\n",
        "        #dictionary[wnid] = hex(wnid[1:])[1:]\n",
        "        id = str(hex(int(wnid[1:])-2000000)[2:])\n",
        "        synset[id] = {\n",
        "            'i': wnid,     # wnid\n",
        "            'w': result[1],   # words\n",
        "            's': round(score, rounddown),         # score\n",
        "            'c': round(score / math.sqrt(l2), rounddown),         # L2 norm\n",
        "            'ss': round(score ** 2, rounddown),         # score^2\n",
        "            #'l2': round(l2, rounddown), \n",
        "        }\n",
        "    count = es.count(index=indexname, doc_type='image')['count']\n",
        "    res = es.index(index=indexname, doc_type='image', id=(count + i), body=doc)"
      ],
      "execution_count": 0,
      "outputs": []
    },
    {
      "cell_type": "code",
      "metadata": {
        "id": "VbCuJ2u1v1dZ",
        "colab_type": "code",
        "colab": {
          "base_uri": "https://localhost:8080/"
        },
        "outputId": "90bc66e4-0047-4cd6-ef81-d3a4aa5124df"
      },
      "source": [
        "createindex(\"santa-search\")\n",
        "\n",
        "directory = \"google_images/\"\n",
        "indexfiles(\"santa-search\", directory, 10, 10)\n",
        "directory = \"bing_images/\"\n",
        "indexfiles(\"santa-search\", directory, 10, 10)\n",
        "directory = \"baidu_images/\"\n",
        "indexfiles(\"santa-search\", directory, 10, 10)"
      ],
      "execution_count": 6,
      "outputs": [
        {
          "output_type": "error",
          "ename": "NameError",
          "evalue": "ignored",
          "traceback": [
            "\u001b[0;31m---------------------------------------------------------------------------\u001b[0m",
            "\u001b[0;31mNameError\u001b[0m                                 Traceback (most recent call last)",
            "\u001b[0;32m<ipython-input-6-9e8370efae5e>\u001b[0m in \u001b[0;36m<module>\u001b[0;34m()\u001b[0m\n\u001b[0;32m----> 1\u001b[0;31m \u001b[0mcreateindex\u001b[0m\u001b[0;34m(\u001b[0m\u001b[0;34m\"santa-search\"\u001b[0m\u001b[0;34m)\u001b[0m\u001b[0;34m\u001b[0m\u001b[0;34m\u001b[0m\u001b[0m\n\u001b[0m\u001b[1;32m      2\u001b[0m \u001b[0;34m\u001b[0m\u001b[0m\n\u001b[1;32m      3\u001b[0m \u001b[0mdirectory\u001b[0m \u001b[0;34m=\u001b[0m \u001b[0;34m\"google_images/\"\u001b[0m\u001b[0;34m\u001b[0m\u001b[0;34m\u001b[0m\u001b[0m\n\u001b[1;32m      4\u001b[0m \u001b[0mindexfiles\u001b[0m\u001b[0;34m(\u001b[0m\u001b[0;34m\"santa-search\"\u001b[0m\u001b[0;34m,\u001b[0m \u001b[0mdirectory\u001b[0m\u001b[0;34m,\u001b[0m \u001b[0;36m10\u001b[0m\u001b[0;34m,\u001b[0m \u001b[0;36m10\u001b[0m\u001b[0;34m)\u001b[0m\u001b[0;34m\u001b[0m\u001b[0;34m\u001b[0m\u001b[0m\n\u001b[1;32m      5\u001b[0m \u001b[0mdirectory\u001b[0m \u001b[0;34m=\u001b[0m \u001b[0;34m\"bing_images/\"\u001b[0m\u001b[0;34m\u001b[0m\u001b[0;34m\u001b[0m\u001b[0m\n",
            "\u001b[0;32m<ipython-input-5-2ed60ab12ffd>\u001b[0m in \u001b[0;36mcreateindex\u001b[0;34m(indexname)\u001b[0m\n\u001b[1;32m      4\u001b[0m \u001b[0;34m\u001b[0m\u001b[0m\n\u001b[1;32m      5\u001b[0m \u001b[0;32mdef\u001b[0m \u001b[0mcreateindex\u001b[0m\u001b[0;34m(\u001b[0m\u001b[0mindexname\u001b[0m\u001b[0;34m)\u001b[0m\u001b[0;34m:\u001b[0m\u001b[0;34m\u001b[0m\u001b[0;34m\u001b[0m\u001b[0m\n\u001b[0;32m----> 6\u001b[0;31m     \u001b[0;32mif\u001b[0m \u001b[0mes\u001b[0m\u001b[0;34m.\u001b[0m\u001b[0mindices\u001b[0m\u001b[0;34m.\u001b[0m\u001b[0mexists\u001b[0m\u001b[0;34m(\u001b[0m\u001b[0mindex\u001b[0m\u001b[0;34m=\u001b[0m\u001b[0mindexname\u001b[0m\u001b[0;34m)\u001b[0m\u001b[0;34m:\u001b[0m\u001b[0;34m\u001b[0m\u001b[0;34m\u001b[0m\u001b[0m\n\u001b[0m\u001b[1;32m      7\u001b[0m         \u001b[0mes\u001b[0m\u001b[0;34m.\u001b[0m\u001b[0mindices\u001b[0m\u001b[0;34m.\u001b[0m\u001b[0mdelete\u001b[0m\u001b[0;34m(\u001b[0m\u001b[0mindex\u001b[0m\u001b[0;34m=\u001b[0m\u001b[0mindexname\u001b[0m\u001b[0;34m)\u001b[0m\u001b[0;34m\u001b[0m\u001b[0;34m\u001b[0m\u001b[0m\n\u001b[1;32m      8\u001b[0m     es.indices.create(index=indexname,  body={\n",
            "\u001b[0;31mNameError\u001b[0m: name 'es' is not defined"
          ]
        }
      ]
    },
    {
      "cell_type": "code",
      "metadata": {
        "id": "GbEcurTvv3RY",
        "colab_type": "code",
        "colab": {}
      },
      "source": [
        "def searchimg(indexname, filename, num=10, topk=10, scoretype='dot', scale=1.0, partition=1):\n",
        "    plt.figure(figsize=(20, 10))\n",
        "    \n",
        "    #showimg(filename, \"query\", i+1, scale)\n",
        "    imgs = showpartimg(filename, \"query\", 1, partition, scale)\n",
        "    plt.show()\n",
        "\n",
        "    reslist = []\n",
        "    for img in imgs:\n",
        "        results = predictimg(img, num, scale)\n",
        "        for result in results:\n",
        "            print(result)\n",
        "        print()\n",
        "        reslist.append(search(indexname, results, num, topk, scoretype))\n",
        "    return reslist\n",
        "\n",
        "def search(indexname, synsets, num, topk, scoretype='dot', disp=True):\n",
        "    base = \"0.0000\"\n",
        "    rounddown = 4\n",
        "    if scoretype == 'dot':\n",
        "        inline = base\n",
        "        for synset in synsets:\n",
        "            score = round(synset[2], rounddown)\n",
        "            if score <= 0.0:\n",
        "                continue\n",
        "            wnid = synset[0]\n",
        "            id = str(hex(int(wnid[1:])-2000000)[2:])\n",
        "            words = synset[1]\n",
        "            inline += \"+doc['s.\" + id + \".s'].value*\" + str(score)\n",
        "    elif scoretype == 'man':\n",
        "        #inline = str(round(1/len(synsets), rounddown)) + \"*(\" + str(len(synsets))\n",
        "        inline = str(len(synsets) / len(synsets))\n",
        "        for synset in synsets:\n",
        "            score = round(synset[2], rounddown)\n",
        "            if score <= 0.0:\n",
        "                continue\n",
        "            wnid = synset[0]\n",
        "            id = str(hex(int(wnid[1:])-2000000)[2:])\n",
        "            words = synset[1]\n",
        "            inline += \"-Math.abs(doc['s.\" + id + \".s'].value*\" + str(1/len(synsets)) + \"-\" + str(score / len(synsets)) + \")\"\n",
        "        #inline += \")\"\n",
        "    elif scoretype == 'var':\n",
        "        l2 = float(0)\n",
        "        for synset in synsets:\n",
        "            score = round(synset[2], rounddown)\n",
        "            if score <= 0.0:\n",
        "                continue\n",
        "            l2 = l2 + (1 - score ** 2)\n",
        "        #inline = str(round(1/len(synsets), rounddown)) + \"*(\" + str(round(l2, rounddown))\n",
        "        inline = str(round(l2/len(synsets), rounddown))\n",
        "        for synset in synsets:\n",
        "            score = round(synset[2], rounddown)\n",
        "            if score <= 0.0:\n",
        "                continue\n",
        "            wnid = synset[0]\n",
        "            id = str(hex(int(wnid[1:])-2000000)[2:])\n",
        "            words = synset[1]\n",
        "            inline += \"+doc['s.\" + id + \".s'].value*\" + str(round(2 * score/len(synsets), rounddown)) + \"-doc['s.\" + id + \".ss'].value/\" + str(round(len(synsets), rounddown)) \n",
        "        #inline += \")\"\n",
        "    elif scoretype == 'var2':\n",
        "        l2 = float(0)\n",
        "        for synset in synsets:\n",
        "            score = round(synset[2], rounddown)\n",
        "            if score <= 0.0:\n",
        "                continue\n",
        "            l2 = l2 + score ** 2\n",
        "        #inline = str(round(1/len(synsets), rounddown)) + \"*(\" + str(round(l2, rounddown))\n",
        "        normalize = (len(synsets)+0)*len(synsets)\n",
        "        inline = str((len(synsets)+0)/len(synsets)) + str(round(-l2/normalize, rounddown))\n",
        "        for synset in synsets:\n",
        "            score = round(synset[2], rounddown)\n",
        "            if score <= 0.0:\n",
        "                continue\n",
        "            wnid = synset[0]\n",
        "            id = str(hex(int(wnid[1:])-2000000)[2:])\n",
        "            words = synset[1]\n",
        "            inline += \"+doc['s.\" + id + \".s'].value*\" + str(round(2 * score/normalize, rounddown)) + \"-doc['s.\" + id + \".ss'].value/\" + str(round(normalize, rounddown)) \n",
        "        #inline += \")\"\n",
        "    elif scoretype == 'cos':\n",
        "        inline = base\n",
        "        for synset in synsets:\n",
        "            score = round(synset[2], rounddown)\n",
        "            if score <= 0.0:\n",
        "                continue\n",
        "            wnid = synset[0]\n",
        "            id = str(hex(int(wnid[1:])-2000000)[2:])\n",
        "            words = synset[1]\n",
        "            inline += \"+doc['s.\" + id + \".c'].value*\" + str(score)\n",
        "    elif scoretype == '+cos':\n",
        "        inline = base\n",
        "        for synset in synsets:\n",
        "            score = round(synset[2], rounddown)\n",
        "            if score <= 0.0:\n",
        "                continue\n",
        "            wnid = synset[0]\n",
        "            id = str(hex(int(wnid[1:])-2000000)[2:])\n",
        "            words = synset[1]\n",
        "            inline += \"+doc['s.\" + id + \".s'].value*\" + str(score)\n",
        "\n",
        "    #print(inline)\n",
        "    #return\n",
        "    \n",
        "    res = es.search(index=indexname, request_timeout=60, body={\n",
        "        \"size\": topk,\n",
        "        \"query\": {\n",
        "            \"function_score\": {\n",
        "                \"query\": {\"match_all\": {}},\n",
        "                \"script_score\" : {\"script\" : {\"inline\": inline}}\n",
        "        }}})\n",
        "\n",
        "    if disp==True:\n",
        "        print(\"Got \" +  str(res['hits']['total']['value']) + \" Hits:\")\n",
        "        topres = res['hits']['hits'][0:topk]\n",
        "        for hit in topres:\n",
        "            print(str(hit[\"_id\"]) + \" \" + str(hit[\"_source\"][\"f\"]) + \" \"  + str(hit[\"_score\"]))\n",
        "        plt.figure(figsize=(20, 10))\n",
        "\n",
        "        for i in range(len(topres)):\n",
        "            hit = topres[i]\n",
        "            row = 5\n",
        "            col = int(topk / 5)\n",
        "            if i >= 25:\n",
        "                break\n",
        "            showimg(hit[\"_source\"][\"f\"], hit[\"_id\"], i+1, col, row)\n",
        "        plt.show()\n",
        "    \n",
        "    return res"
      ],
      "execution_count": 0,
      "outputs": []
    },
    {
      "cell_type": "code",
      "metadata": {
        "id": "wxkfP_8-v6Xz",
        "colab_type": "code",
        "colab": {
          "base_uri": "https://localhost:8080/"
        },
        "outputId": "2d38c76e-8729-4cba-b38f-b9f8758b2894"
      },
      "source": [
        "filename = \"google_images/000338.jpg\"\n",
        "_ = searchimg('santa-search', filename, 10, 10, 'dot', 1.0, 1)"
      ],
      "execution_count": 8,
      "outputs": [
        {
          "output_type": "error",
          "ename": "NameError",
          "evalue": "ignored",
          "traceback": [
            "\u001b[0;31m---------------------------------------------------------------------------\u001b[0m",
            "\u001b[0;31mNameError\u001b[0m                                 Traceback (most recent call last)",
            "\u001b[0;32m<ipython-input-8-9de7d66e3ded>\u001b[0m in \u001b[0;36m<module>\u001b[0;34m()\u001b[0m\n\u001b[1;32m      1\u001b[0m \u001b[0mfilename\u001b[0m \u001b[0;34m=\u001b[0m \u001b[0;34m\"google_images/000338.jpg\"\u001b[0m\u001b[0;34m\u001b[0m\u001b[0;34m\u001b[0m\u001b[0m\n\u001b[0;32m----> 2\u001b[0;31m \u001b[0m_\u001b[0m \u001b[0;34m=\u001b[0m \u001b[0msearchimg\u001b[0m\u001b[0;34m(\u001b[0m\u001b[0;34m'santa-search'\u001b[0m\u001b[0;34m,\u001b[0m \u001b[0mfilename\u001b[0m\u001b[0;34m,\u001b[0m \u001b[0;36m10\u001b[0m\u001b[0;34m,\u001b[0m \u001b[0;36m10\u001b[0m\u001b[0;34m,\u001b[0m \u001b[0;34m'dot'\u001b[0m\u001b[0;34m,\u001b[0m \u001b[0;36m1.0\u001b[0m\u001b[0;34m,\u001b[0m \u001b[0;36m1\u001b[0m\u001b[0;34m)\u001b[0m\u001b[0;34m\u001b[0m\u001b[0;34m\u001b[0m\u001b[0m\n\u001b[0m",
            "\u001b[0;32m<ipython-input-7-28afdb995d32>\u001b[0m in \u001b[0;36msearchimg\u001b[0;34m(indexname, filename, num, topk, scoretype, scale, partition)\u001b[0m\n\u001b[1;32m      1\u001b[0m \u001b[0;32mdef\u001b[0m \u001b[0msearchimg\u001b[0m\u001b[0;34m(\u001b[0m\u001b[0mindexname\u001b[0m\u001b[0;34m,\u001b[0m \u001b[0mfilename\u001b[0m\u001b[0;34m,\u001b[0m \u001b[0mnum\u001b[0m\u001b[0;34m=\u001b[0m\u001b[0;36m10\u001b[0m\u001b[0;34m,\u001b[0m \u001b[0mtopk\u001b[0m\u001b[0;34m=\u001b[0m\u001b[0;36m10\u001b[0m\u001b[0;34m,\u001b[0m \u001b[0mscoretype\u001b[0m\u001b[0;34m=\u001b[0m\u001b[0;34m'dot'\u001b[0m\u001b[0;34m,\u001b[0m \u001b[0mscale\u001b[0m\u001b[0;34m=\u001b[0m\u001b[0;36m1.0\u001b[0m\u001b[0;34m,\u001b[0m \u001b[0mpartition\u001b[0m\u001b[0;34m=\u001b[0m\u001b[0;36m1\u001b[0m\u001b[0;34m)\u001b[0m\u001b[0;34m:\u001b[0m\u001b[0;34m\u001b[0m\u001b[0;34m\u001b[0m\u001b[0m\n\u001b[0;32m----> 2\u001b[0;31m     \u001b[0mplt\u001b[0m\u001b[0;34m.\u001b[0m\u001b[0mfigure\u001b[0m\u001b[0;34m(\u001b[0m\u001b[0mfigsize\u001b[0m\u001b[0;34m=\u001b[0m\u001b[0;34m(\u001b[0m\u001b[0;36m20\u001b[0m\u001b[0;34m,\u001b[0m \u001b[0;36m10\u001b[0m\u001b[0;34m)\u001b[0m\u001b[0;34m)\u001b[0m\u001b[0;34m\u001b[0m\u001b[0;34m\u001b[0m\u001b[0m\n\u001b[0m\u001b[1;32m      3\u001b[0m \u001b[0;34m\u001b[0m\u001b[0m\n\u001b[1;32m      4\u001b[0m     \u001b[0;31m#showimg(filename, \"query\", i+1, scale)\u001b[0m\u001b[0;34m\u001b[0m\u001b[0;34m\u001b[0m\u001b[0;34m\u001b[0m\u001b[0m\n\u001b[1;32m      5\u001b[0m     \u001b[0mimgs\u001b[0m \u001b[0;34m=\u001b[0m \u001b[0mshowpartimg\u001b[0m\u001b[0;34m(\u001b[0m\u001b[0mfilename\u001b[0m\u001b[0;34m,\u001b[0m \u001b[0;34m\"query\"\u001b[0m\u001b[0;34m,\u001b[0m \u001b[0;36m1\u001b[0m\u001b[0;34m,\u001b[0m \u001b[0mpartition\u001b[0m\u001b[0;34m,\u001b[0m \u001b[0mscale\u001b[0m\u001b[0;34m)\u001b[0m\u001b[0;34m\u001b[0m\u001b[0;34m\u001b[0m\u001b[0m\n",
            "\u001b[0;31mNameError\u001b[0m: name 'plt' is not defined"
          ]
        }
      ]
    },
    {
      "cell_type": "code",
      "metadata": {
        "id": "LvlQ9Ok-v81h",
        "colab_type": "code",
        "colab": {
          "base_uri": "https://localhost:8080/"
        },
        "outputId": "160efe64-30be-4cdc-b206-d460d97ebec6"
      },
      "source": [
        "!curl -X GET \"localhost:9200/\""
      ],
      "execution_count": 9,
      "outputs": [
        {
          "output_type": "stream",
          "text": [
            "curl: (7) Failed to connect to localhost port 9200: Connection refused\n"
          ],
          "name": "stdout"
        }
      ]
    },
    {
      "cell_type": "code",
      "metadata": {
        "id": "0y0JXkpswC2w",
        "colab_type": "code",
        "colab": {
          "base_uri": "https://localhost:8080/"
        },
        "outputId": "693ed2fe-b407-4838-bdd7-3b5914393617"
      },
      "source": [
        "res = es.search(index=\"santa-search\", body={\"query\": {\"match_all\": {}}})\n",
        "print(\"Got %d Hits:\" % res['hits']['total']['value'])\n",
        "for hit in res['hits']['hits']:\n",
        "    print(hit[\"_source\"])\n",
        "    #print(\"%(timestamp)s %(author)s: %(text)s\" % hit[\"_source\"])"
      ],
      "execution_count": 10,
      "outputs": [
        {
          "output_type": "error",
          "ename": "NameError",
          "evalue": "ignored",
          "traceback": [
            "\u001b[0;31m---------------------------------------------------------------------------\u001b[0m",
            "\u001b[0;31mNameError\u001b[0m                                 Traceback (most recent call last)",
            "\u001b[0;32m<ipython-input-10-9af9307aaa3d>\u001b[0m in \u001b[0;36m<module>\u001b[0;34m()\u001b[0m\n\u001b[0;32m----> 1\u001b[0;31m \u001b[0mres\u001b[0m \u001b[0;34m=\u001b[0m \u001b[0mes\u001b[0m\u001b[0;34m.\u001b[0m\u001b[0msearch\u001b[0m\u001b[0;34m(\u001b[0m\u001b[0mindex\u001b[0m\u001b[0;34m=\u001b[0m\u001b[0;34m\"santa-search\"\u001b[0m\u001b[0;34m,\u001b[0m \u001b[0mbody\u001b[0m\u001b[0;34m=\u001b[0m\u001b[0;34m{\u001b[0m\u001b[0;34m\"query\"\u001b[0m\u001b[0;34m:\u001b[0m \u001b[0;34m{\u001b[0m\u001b[0;34m\"match_all\"\u001b[0m\u001b[0;34m:\u001b[0m \u001b[0;34m{\u001b[0m\u001b[0;34m}\u001b[0m\u001b[0;34m}\u001b[0m\u001b[0;34m}\u001b[0m\u001b[0;34m)\u001b[0m\u001b[0;34m\u001b[0m\u001b[0;34m\u001b[0m\u001b[0m\n\u001b[0m\u001b[1;32m      2\u001b[0m \u001b[0mprint\u001b[0m\u001b[0;34m(\u001b[0m\u001b[0;34m\"Got %d Hits:\"\u001b[0m \u001b[0;34m%\u001b[0m \u001b[0mres\u001b[0m\u001b[0;34m[\u001b[0m\u001b[0;34m'hits'\u001b[0m\u001b[0;34m]\u001b[0m\u001b[0;34m[\u001b[0m\u001b[0;34m'total'\u001b[0m\u001b[0;34m]\u001b[0m\u001b[0;34m[\u001b[0m\u001b[0;34m'value'\u001b[0m\u001b[0;34m]\u001b[0m\u001b[0;34m)\u001b[0m\u001b[0;34m\u001b[0m\u001b[0;34m\u001b[0m\u001b[0m\n\u001b[1;32m      3\u001b[0m \u001b[0;32mfor\u001b[0m \u001b[0mhit\u001b[0m \u001b[0;32min\u001b[0m \u001b[0mres\u001b[0m\u001b[0;34m[\u001b[0m\u001b[0;34m'hits'\u001b[0m\u001b[0;34m]\u001b[0m\u001b[0;34m[\u001b[0m\u001b[0;34m'hits'\u001b[0m\u001b[0;34m]\u001b[0m\u001b[0;34m:\u001b[0m\u001b[0;34m\u001b[0m\u001b[0;34m\u001b[0m\u001b[0m\n\u001b[1;32m      4\u001b[0m     \u001b[0mprint\u001b[0m\u001b[0;34m(\u001b[0m\u001b[0mhit\u001b[0m\u001b[0;34m[\u001b[0m\u001b[0;34m\"_source\"\u001b[0m\u001b[0;34m]\u001b[0m\u001b[0;34m)\u001b[0m\u001b[0;34m\u001b[0m\u001b[0;34m\u001b[0m\u001b[0m\n\u001b[1;32m      5\u001b[0m     \u001b[0;31m#print(\"%(timestamp)s %(author)s: %(text)s\" % hit[\"_source\"])\u001b[0m\u001b[0;34m\u001b[0m\u001b[0;34m\u001b[0m\u001b[0;34m\u001b[0m\u001b[0m\n",
            "\u001b[0;31mNameError\u001b[0m: name 'es' is not defined"
          ]
        }
      ]
    },
    {
      "cell_type": "code",
      "metadata": {
        "id": "LSDo8FNjwFjw",
        "colab_type": "code",
        "colab": {}
      },
      "source": [
        ""
      ],
      "execution_count": 0,
      "outputs": []
    }
  ]
}