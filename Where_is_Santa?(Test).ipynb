{
  "nbformat": 4,
  "nbformat_minor": 0,
  "metadata": {
    "colab": {
      "name": "Where is Santa? (Test).ipynb",
      "provenance": [],
      "include_colab_link": true
    },
    "kernelspec": {
      "name": "python3",
      "display_name": "Python 3"
    }
  },
  "cells": [
    {
      "cell_type": "markdown",
      "metadata": {
        "id": "view-in-github",
        "colab_type": "text"
      },
      "source": [
        "<a href=\"https://colab.research.google.com/github/taniokah/where-is-santa/blob/master/Where_is_Santa%3F(Test).ipynb\" target=\"_parent\"><img src=\"https://colab.research.google.com/assets/colab-badge.svg\" alt=\"Open In Colab\"/></a>"
      ]
    },
    {
      "cell_type": "code",
      "metadata": {
        "id": "SxQL4d6mx7v0",
        "colab_type": "code",
        "colab": {}
      },
      "source": [
        "!wget https://artifacts.elastic.co/downloads/elasticsearch/elasticsearch-7.5.1-linux-x86_64.tar.gz -q\n",
        "!tar -xzf elasticsearch-7.5.1-linux-x86_64.tar.gz\n",
        "!chown -R daemon:daemon elasticsearch-7.5.1/\n",
        "\n",
        "#start server"
      ],
      "execution_count": 0,
      "outputs": []
    },
    {
      "cell_type": "code",
      "metadata": {
        "id": "-ErISbjHx-I3",
        "colab_type": "code",
        "colab": {
          "base_uri": "https://localhost:8080/",
          "height": 309
        },
        "outputId": "321f780e-7f59-450a-beb6-c53aac9aae81"
      },
      "source": [
        "!elasticsearch-7.5.1/bin/elasticsearch\n",
        "\n",
        "#import os\n",
        "#from subprocess import Popen, PIPE, STDOUT\n",
        "#es_server = Popen(['elasticsearch-7.5.1/bin/elasticsearch'], \n",
        "#                  stdout=PIPE, stderr=STDOUT,\n",
        "#                  preexec_fn=lambda: os.setuid(1)  # as daemon\n",
        "#                 )"
      ],
      "execution_count": 34,
      "outputs": [
        {
          "output_type": "stream",
          "text": [
            "OpenJDK 64-Bit Server VM warning: Option UseConcMarkSweepGC was deprecated in version 9.0 and will likely be removed in a future release.\n",
            "[2019-12-24T02:48:15,031][WARN ][o.e.b.ElasticsearchUncaughtExceptionHandler] [ea860d483819] uncaught exception in thread [main]\n",
            "org.elasticsearch.bootstrap.StartupException: java.lang.RuntimeException: can not run elasticsearch as root\n",
            "\tat org.elasticsearch.bootstrap.Elasticsearch.init(Elasticsearch.java:163) ~[elasticsearch-7.5.1.jar:7.5.1]\n",
            "\tat org.elasticsearch.bootstrap.Elasticsearch.execute(Elasticsearch.java:150) ~[elasticsearch-7.5.1.jar:7.5.1]\n",
            "\tat org.elasticsearch.cli.EnvironmentAwareCommand.execute(EnvironmentAwareCommand.java:86) ~[elasticsearch-7.5.1.jar:7.5.1]\n",
            "\tat org.elasticsearch.cli.Command.mainWithoutErrorHandling(Command.java:125) ~[elasticsearch-cli-7.5.1.jar:7.5.1]\n",
            "\tat org.elasticsearch.cli.Command.main(Command.java:90) ~[elasticsearch-cli-7.5.1.jar:7.5.1]\n",
            "\tat org.elasticsearch.bootstrap.Elasticsearch.main(Elasticsearch.java:115) ~[elasticsearch-7.5.1.jar:7.5.1]\n",
            "\tat org.elasticsearch.bootstrap.Elasticsearch.main(Elasticsearch.java:92) ~[elasticsearch-7.5.1.jar:7.5.1]\n",
            "Caused by: java.lang.RuntimeException: can not run elasticsearch as root\n",
            "\tat org.elasticsearch.bootstrap.Bootstrap.initializeNatives(Bootstrap.java:105) ~[elasticsearch-7.5.1.jar:7.5.1]\n",
            "\tat org.elasticsearch.bootstrap.Bootstrap.setup(Bootstrap.java:172) ~[elasticsearch-7.5.1.jar:7.5.1]\n",
            "\tat org.elasticsearch.bootstrap.Bootstrap.init(Bootstrap.java:349) ~[elasticsearch-7.5.1.jar:7.5.1]\n",
            "\tat org.elasticsearch.bootstrap.Elasticsearch.init(Elasticsearch.java:159) ~[elasticsearch-7.5.1.jar:7.5.1]\n",
            "\t... 6 more\n"
          ],
          "name": "stdout"
        }
      ]
    },
    {
      "cell_type": "code",
      "metadata": {
        "id": "SsKpJ5BBx-bz",
        "colab_type": "code",
        "colab": {
          "base_uri": "https://localhost:8080/",
          "height": 71
        },
        "outputId": "ea3a24d0-7374-4aa4-beba-1cd861448454"
      },
      "source": [
        "!pip install elasticsearch"
      ],
      "execution_count": 14,
      "outputs": [
        {
          "output_type": "stream",
          "text": [
            "Requirement already satisfied: elasticsearch in /usr/local/lib/python3.6/dist-packages (7.1.0)\n",
            "Requirement already satisfied: urllib3>=1.21.1 in /usr/local/lib/python3.6/dist-packages (from elasticsearch) (1.24.3)\n"
          ],
          "name": "stdout"
        }
      ]
    },
    {
      "cell_type": "code",
      "metadata": {
        "id": "LUKM699pyA2B",
        "colab_type": "code",
        "colab": {
          "base_uri": "https://localhost:8080/",
          "height": 85
        },
        "outputId": "211de3a6-fe24-49a4-9b05-563959100edb"
      },
      "source": [
        "from datetime import datetime\n",
        "from elasticsearch import Elasticsearch\n",
        "es = Elasticsearch(timeout=20)\n",
        "\n",
        "doc = {\n",
        "    'author': 'Santa Claus',\n",
        "    'text': 'Where is Santa Claus?',\n",
        "    'timestamp': datetime.now(),\n",
        "}\n",
        "res = es.index(index=\"test-index\", doc_type='tweet', id=1, body=doc)\n",
        "print(res['result'])\n",
        "\n",
        "res = es.get(index=\"test-index\", doc_type='tweet', id=1)\n",
        "print(res['_source'])\n",
        "\n",
        "es.indices.refresh(index=\"test-index\")\n",
        "\n",
        "res = es.search(index=\"test-index\", body={\"query\": {\"match_all\": {}}})\n",
        "print(\"Got %d Hits:\" % res['hits']['total']['value'])\n",
        "for hit in res['hits']['hits']:\n",
        "    print(\"%(timestamp)s %(author)s: %(text)s\" % hit[\"_source\"])"
      ],
      "execution_count": 38,
      "outputs": [
        {
          "output_type": "stream",
          "text": [
            "updated\n",
            "{'author': 'Santa Claus', 'text': 'Where is Santa Claus?', 'timestamp': '2019-12-24T03:34:44.337750'}\n",
            "Got 1 Hits:\n",
            "2019-12-24T03:34:44.337750 Santa Claus: Where is Santa Claus?\n"
          ],
          "name": "stdout"
        }
      ]
    },
    {
      "cell_type": "code",
      "metadata": {
        "id": "2pBGef_oyC_-",
        "colab_type": "code",
        "colab": {
          "base_uri": "https://localhost:8080/",
          "height": 306
        },
        "outputId": "c07ae46a-e6f4-482b-abae-4802b479910c"
      },
      "source": [
        "!curl -X GET \"localhost:9200/\""
      ],
      "execution_count": 36,
      "outputs": [
        {
          "output_type": "stream",
          "text": [
            "{\n",
            "  \"name\" : \"ea860d483819\",\n",
            "  \"cluster_name\" : \"elasticsearch\",\n",
            "  \"cluster_uuid\" : \"eeJX5DAxR0-_1OjIT4ntDA\",\n",
            "  \"version\" : {\n",
            "    \"number\" : \"7.5.1\",\n",
            "    \"build_flavor\" : \"default\",\n",
            "    \"build_type\" : \"tar\",\n",
            "    \"build_hash\" : \"3ae9ac9a93c95bd0cdc054951cf95d88e1e18d96\",\n",
            "    \"build_date\" : \"2019-12-16T22:57:37.835892Z\",\n",
            "    \"build_snapshot\" : false,\n",
            "    \"lucene_version\" : \"8.3.0\",\n",
            "    \"minimum_wire_compatibility_version\" : \"6.8.0\",\n",
            "    \"minimum_index_compatibility_version\" : \"6.0.0-beta1\"\n",
            "  },\n",
            "  \"tagline\" : \"You Know, for Search\"\n",
            "}\n"
          ],
          "name": "stdout"
        }
      ]
    },
    {
      "cell_type": "code",
      "metadata": {
        "id": "TQ6O315cy9L4",
        "colab_type": "code",
        "colab": {}
      },
      "source": [
        ""
      ],
      "execution_count": 0,
      "outputs": []
    }
  ]
}