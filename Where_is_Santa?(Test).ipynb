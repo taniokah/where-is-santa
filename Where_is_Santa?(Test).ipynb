{
  "nbformat": 4,
  "nbformat_minor": 0,
  "metadata": {
    "colab": {
      "name": "Where is Santa?(Test).ipynb",
      "provenance": [],
      "include_colab_link": true
    },
    "kernelspec": {
      "name": "python3",
      "display_name": "Python 3"
    }
  },
  "cells": [
    {
      "cell_type": "markdown",
      "metadata": {
        "id": "view-in-github",
        "colab_type": "text"
      },
      "source": [
        "<a href=\"https://colab.research.google.com/github/taniokah/where-is-santa/blob/master/Where_is_Santa%3F(Test).ipynb\" target=\"_parent\"><img src=\"https://colab.research.google.com/assets/colab-badge.svg\" alt=\"Open In Colab\"/></a>"
      ]
    },
    {
      "cell_type": "code",
      "metadata": {
        "id": "SxQL4d6mx7v0",
        "colab_type": "code",
        "colab": {}
      },
      "source": [
        "!wget https://artifacts.elastic.co/downloads/elasticsearch/elasticsearch-7.5.1-linux-x86_64.tar.gz -q\n",
        "!tar -xzf elasticsearch-7.5.1-linux-x86_64.tar.gz\n",
        "\n",
        "#start server"
      ],
      "execution_count": 0,
      "outputs": []
    },
    {
      "cell_type": "code",
      "metadata": {
        "id": "-ErISbjHx-I3",
        "colab_type": "code",
        "colab": {}
      },
      "source": [
        "!chown -R daemon:daemon elasticsearch-7.5.1/\n",
        "#!elasticsearch-7.5.1/bin/elasticsearch\n",
        "\n",
        "import os\n",
        "from subprocess import Popen, PIPE, STDOUT\n",
        "es_server = Popen(['elasticsearch-7.5.1/bin/elasticsearch'], \n",
        "                  stdout=PIPE, stderr=STDOUT,\n",
        "                  preexec_fn=lambda: os.setuid(1)  # as daemon\n",
        "                 )"
      ],
      "execution_count": 0,
      "outputs": []
    },
    {
      "cell_type": "markdown",
      "metadata": {
        "id": "-u_MYxtUzkJp",
        "colab_type": "text"
      },
      "source": [
        "# YOU MUST WAIT TO BE AVLAILABLE CONNECTING TO THE SERVER!!\n",
        "\n",
        "You might wait for a while. (over a few minutes)\n",
        "You can check \"!ps aux | grep elasticsearch\""
      ]
    },
    {
      "cell_type": "code",
      "metadata": {
        "id": "2pBGef_oyC_-",
        "colab_type": "code",
        "outputId": "beebcb13-f983-4925-f59e-43cf38a4e8c6",
        "colab": {
          "base_uri": "https://localhost:8080/",
          "height": 306
        }
      },
      "source": [
        "# Test\n",
        "!curl -X GET \"localhost:9200/\""
      ],
      "execution_count": 32,
      "outputs": [
        {
          "output_type": "stream",
          "text": [
            "{\n",
            "  \"name\" : \"d68749ab7ad5\",\n",
            "  \"cluster_name\" : \"elasticsearch\",\n",
            "  \"cluster_uuid\" : \"PvK7pnFvR4Cd9Q5CRP03YQ\",\n",
            "  \"version\" : {\n",
            "    \"number\" : \"7.5.1\",\n",
            "    \"build_flavor\" : \"default\",\n",
            "    \"build_type\" : \"tar\",\n",
            "    \"build_hash\" : \"3ae9ac9a93c95bd0cdc054951cf95d88e1e18d96\",\n",
            "    \"build_date\" : \"2019-12-16T22:57:37.835892Z\",\n",
            "    \"build_snapshot\" : false,\n",
            "    \"lucene_version\" : \"8.3.0\",\n",
            "    \"minimum_wire_compatibility_version\" : \"6.8.0\",\n",
            "    \"minimum_index_compatibility_version\" : \"6.0.0-beta1\"\n",
            "  },\n",
            "  \"tagline\" : \"You Know, for Search\"\n",
            "}\n"
          ],
          "name": "stdout"
        }
      ]
    },
    {
      "cell_type": "code",
      "metadata": {
        "id": "SsKpJ5BBx-bz",
        "colab_type": "code",
        "outputId": "67b656b9-66bc-452b-cc9f-d0c79e6e224b",
        "colab": {
          "base_uri": "https://localhost:8080/",
          "height": 139
        }
      },
      "source": [
        "!pip install elasticsearch"
      ],
      "execution_count": 7,
      "outputs": [
        {
          "output_type": "stream",
          "text": [
            "Collecting elasticsearch\n",
            "\u001b[?25l  Downloading https://files.pythonhosted.org/packages/86/3c/047e4985f81af98b71f19e318a6207187987bcd8af73b1edd4470cdee76b/elasticsearch-7.1.0-py2.py3-none-any.whl (83kB)\n",
            "\r\u001b[K     |████                            | 10kB 14.9MB/s eta 0:00:01\r\u001b[K     |████████                        | 20kB 1.8MB/s eta 0:00:01\r\u001b[K     |███████████▉                    | 30kB 2.2MB/s eta 0:00:01\r\u001b[K     |███████████████▉                | 40kB 1.7MB/s eta 0:00:01\r\u001b[K     |███████████████████▊            | 51kB 1.9MB/s eta 0:00:01\r\u001b[K     |███████████████████████▊        | 61kB 2.2MB/s eta 0:00:01\r\u001b[K     |███████████████████████████▋    | 71kB 2.4MB/s eta 0:00:01\r\u001b[K     |███████████████████████████████▋| 81kB 2.8MB/s eta 0:00:01\r\u001b[K     |████████████████████████████████| 92kB 2.5MB/s \n",
            "\u001b[?25hRequirement already satisfied: urllib3>=1.21.1 in /usr/local/lib/python3.6/dist-packages (from elasticsearch) (1.24.3)\n",
            "Installing collected packages: elasticsearch\n",
            "Successfully installed elasticsearch-7.1.0\n"
          ],
          "name": "stdout"
        }
      ]
    },
    {
      "cell_type": "code",
      "metadata": {
        "id": "LUKM699pyA2B",
        "colab_type": "code",
        "outputId": "6f6d6ede-06d2-44c5-b856-6193a66badd6",
        "colab": {
          "base_uri": "https://localhost:8080/",
          "height": 85
        }
      },
      "source": [
        "from datetime import datetime\n",
        "from elasticsearch import Elasticsearch\n",
        "es = Elasticsearch(timeout=20)\n",
        "\n",
        "doc = {\n",
        "    'author': 'Santa Claus',\n",
        "    'text': 'Where is Santa Claus?',\n",
        "    'timestamp': datetime.now(),\n",
        "}\n",
        "res = es.index(index=\"test-index\", doc_type='tweet', id=1, body=doc)\n",
        "print(res['result'])\n",
        "\n",
        "res = es.get(index=\"test-index\", doc_type='tweet', id=1)\n",
        "print(res['_source'])\n",
        "\n",
        "es.indices.refresh(index=\"test-index\")\n",
        "\n",
        "res = es.search(index=\"test-index\", body={\"query\": {\"match_all\": {}}})\n",
        "print(\"Got %d Hits:\" % res['hits']['total']['value'])\n",
        "for hit in res['hits']['hits']:\n",
        "    print(\"%(timestamp)s %(author)s: %(text)s\" % hit[\"_source\"])"
      ],
      "execution_count": 33,
      "outputs": [
        {
          "output_type": "stream",
          "text": [
            "created\n",
            "{'author': 'Santa Claus', 'text': 'Where is Santa Claus?', 'timestamp': '2019-12-26T01:42:12.765381'}\n",
            "Got 1 Hits:\n",
            "2019-12-26T01:42:12.765381 Santa Claus: Where is Santa Claus?\n"
          ],
          "name": "stdout"
        }
      ]
    },
    {
      "cell_type": "code",
      "metadata": {
        "id": "M5IUF71a3E5v",
        "colab_type": "code",
        "colab": {}
      },
      "source": [
        ""
      ],
      "execution_count": 0,
      "outputs": []
    }
  ]
}